{
  "cells": [
    {
      "cell_type": "markdown",
      "metadata": {
        "id": "nWkRYQ9txDvg"
      },
      "source": [
        "# **LOADING THE DATASET**"
      ]
    },
    {
      "cell_type": "code",
      "execution_count": null,
      "metadata": {
        "id": "AKC4y2mUv-G6",
        "colab": {
          "base_uri": "https://localhost:8080/"
        },
        "outputId": "478973c0-577f-44eb-a0ce-3611a899ce9f"
      },
      "outputs": [
        {
          "output_type": "stream",
          "name": "stdout",
          "text": [
            "Drive already mounted at /content/drive; to attempt to forcibly remount, call drive.mount(\"/content/drive\", force_remount=True).\n"
          ]
        }
      ],
      "source": [
        "from google.colab import drive\n",
        "drive.mount('/content/drive')"
      ]
    },
    {
      "cell_type": "markdown",
      "source": [
        "from google.colab import drive:\n",
        "\n",
        "Imports the drive module from Google Colab to allow access to Google Drive files.\n",
        "drive.mount('/content/drive'):\n",
        "\n",
        "Mounts your Google Drive to the Colab environment at the specified directory (/content/drive) to access files stored there."
      ],
      "metadata": {
        "id": "_7bTQTqfGuy5"
      }
    },
    {
      "cell_type": "code",
      "execution_count": null,
      "metadata": {
        "id": "4sSCPcPXwqfg"
      },
      "outputs": [],
      "source": [
        "import pandas as pd\n",
        "import numpy as np\n",
        "from sklearn.metrics import accuracy_score, classification_report, confusion_matrix\n",
        "from scipy.stats import ttest_ind\n",
        "df = pd.read_csv(\"/content/drive/My Drive/AI_205_FINALPROJECT/AI-Project/smoking_driking_dataset_Ver01.csv\")"
      ]
    },
    {
      "cell_type": "markdown",
      "source": [
        "1. import pandas as pd:\n",
        "\n",
        "  Imports Pandas, a library for handling and analyzing structured data (like tabular datasets).\n",
        "\n",
        "2. import numpy as np:\n",
        "\n",
        "  Imports NumPy, a library for numerical computations and array manipulation.\n",
        "\n",
        "3. from sklearn.metrics import ...:\n",
        "\n",
        "  accuracy_score: Calculates the fraction of correctly classified samples.\n",
        "\n",
        "  classification_report: Provides precision, recall, F1-score, and support metrics.\n",
        "\n",
        "  confusion_matrix: Evaluates classification performance using a confusion matrix.\n",
        "\n",
        "4. from scipy.stats import ttest_ind:\n",
        "\n",
        "  Imports the ttest_ind function, which performs a two-sample t-test to compare the means of two groups."
      ],
      "metadata": {
        "id": "UUlGCtb2G1Mh"
      }
    },
    {
      "cell_type": "markdown",
      "source": [
        "5. pd.read_csv():\n",
        "  Loads the dataset from the specified CSV file into a Pandas DataFrame, enabling data manipulation."
      ],
      "metadata": {
        "id": "prguliX7HUBs"
      }
    },
    {
      "cell_type": "code",
      "execution_count": null,
      "metadata": {
        "id": "lopZsRY5xLUO",
        "colab": {
          "base_uri": "https://localhost:8080/",
          "height": 256
        },
        "outputId": "bafe1198-3656-42a2-b341-522ae2bf39e8"
      },
      "outputs": [
        {
          "output_type": "execute_result",
          "data": {
            "text/plain": [
              "    sex  age  height  weight  waistline  sight_left  sight_right  hear_left  \\\n",
              "0  Male   35     170      75       90.0         1.0          1.0        1.0   \n",
              "1  Male   30     180      80       89.0         0.9          1.2        1.0   \n",
              "2  Male   40     165      75       91.0         1.2          1.5        1.0   \n",
              "3  Male   50     175      80       91.0         1.5          1.2        1.0   \n",
              "4  Male   50     165      60       80.0         1.0          1.2        1.0   \n",
              "\n",
              "   hear_right    SBP  ...  LDL_chole  triglyceride  hemoglobin  urine_protein  \\\n",
              "0         1.0  120.0  ...      126.0          92.0        17.1            1.0   \n",
              "1         1.0  130.0  ...      148.0         121.0        15.8            1.0   \n",
              "2         1.0  120.0  ...       74.0         104.0        15.8            1.0   \n",
              "3         1.0  145.0  ...      104.0         106.0        17.6            1.0   \n",
              "4         1.0  138.0  ...      117.0         104.0        13.8            1.0   \n",
              "\n",
              "   serum_creatinine  SGOT_AST  SGOT_ALT  gamma_GTP  SMK_stat_type_cd  DRK_YN  \n",
              "0               1.0      21.0      35.0       40.0               1.0       Y  \n",
              "1               0.9      20.0      36.0       27.0               3.0       N  \n",
              "2               0.9      47.0      32.0       68.0               1.0       N  \n",
              "3               1.1      29.0      34.0       18.0               1.0       N  \n",
              "4               0.8      19.0      12.0       25.0               1.0       N  \n",
              "\n",
              "[5 rows x 24 columns]"
            ],
            "text/html": [
              "\n",
              "  <div id=\"df-c626bfb4-575a-492b-a432-12b16f2532a2\" class=\"colab-df-container\">\n",
              "    <div>\n",
              "<style scoped>\n",
              "    .dataframe tbody tr th:only-of-type {\n",
              "        vertical-align: middle;\n",
              "    }\n",
              "\n",
              "    .dataframe tbody tr th {\n",
              "        vertical-align: top;\n",
              "    }\n",
              "\n",
              "    .dataframe thead th {\n",
              "        text-align: right;\n",
              "    }\n",
              "</style>\n",
              "<table border=\"1\" class=\"dataframe\">\n",
              "  <thead>\n",
              "    <tr style=\"text-align: right;\">\n",
              "      <th></th>\n",
              "      <th>sex</th>\n",
              "      <th>age</th>\n",
              "      <th>height</th>\n",
              "      <th>weight</th>\n",
              "      <th>waistline</th>\n",
              "      <th>sight_left</th>\n",
              "      <th>sight_right</th>\n",
              "      <th>hear_left</th>\n",
              "      <th>hear_right</th>\n",
              "      <th>SBP</th>\n",
              "      <th>...</th>\n",
              "      <th>LDL_chole</th>\n",
              "      <th>triglyceride</th>\n",
              "      <th>hemoglobin</th>\n",
              "      <th>urine_protein</th>\n",
              "      <th>serum_creatinine</th>\n",
              "      <th>SGOT_AST</th>\n",
              "      <th>SGOT_ALT</th>\n",
              "      <th>gamma_GTP</th>\n",
              "      <th>SMK_stat_type_cd</th>\n",
              "      <th>DRK_YN</th>\n",
              "    </tr>\n",
              "  </thead>\n",
              "  <tbody>\n",
              "    <tr>\n",
              "      <th>0</th>\n",
              "      <td>Male</td>\n",
              "      <td>35</td>\n",
              "      <td>170</td>\n",
              "      <td>75</td>\n",
              "      <td>90.0</td>\n",
              "      <td>1.0</td>\n",
              "      <td>1.0</td>\n",
              "      <td>1.0</td>\n",
              "      <td>1.0</td>\n",
              "      <td>120.0</td>\n",
              "      <td>...</td>\n",
              "      <td>126.0</td>\n",
              "      <td>92.0</td>\n",
              "      <td>17.1</td>\n",
              "      <td>1.0</td>\n",
              "      <td>1.0</td>\n",
              "      <td>21.0</td>\n",
              "      <td>35.0</td>\n",
              "      <td>40.0</td>\n",
              "      <td>1.0</td>\n",
              "      <td>Y</td>\n",
              "    </tr>\n",
              "    <tr>\n",
              "      <th>1</th>\n",
              "      <td>Male</td>\n",
              "      <td>30</td>\n",
              "      <td>180</td>\n",
              "      <td>80</td>\n",
              "      <td>89.0</td>\n",
              "      <td>0.9</td>\n",
              "      <td>1.2</td>\n",
              "      <td>1.0</td>\n",
              "      <td>1.0</td>\n",
              "      <td>130.0</td>\n",
              "      <td>...</td>\n",
              "      <td>148.0</td>\n",
              "      <td>121.0</td>\n",
              "      <td>15.8</td>\n",
              "      <td>1.0</td>\n",
              "      <td>0.9</td>\n",
              "      <td>20.0</td>\n",
              "      <td>36.0</td>\n",
              "      <td>27.0</td>\n",
              "      <td>3.0</td>\n",
              "      <td>N</td>\n",
              "    </tr>\n",
              "    <tr>\n",
              "      <th>2</th>\n",
              "      <td>Male</td>\n",
              "      <td>40</td>\n",
              "      <td>165</td>\n",
              "      <td>75</td>\n",
              "      <td>91.0</td>\n",
              "      <td>1.2</td>\n",
              "      <td>1.5</td>\n",
              "      <td>1.0</td>\n",
              "      <td>1.0</td>\n",
              "      <td>120.0</td>\n",
              "      <td>...</td>\n",
              "      <td>74.0</td>\n",
              "      <td>104.0</td>\n",
              "      <td>15.8</td>\n",
              "      <td>1.0</td>\n",
              "      <td>0.9</td>\n",
              "      <td>47.0</td>\n",
              "      <td>32.0</td>\n",
              "      <td>68.0</td>\n",
              "      <td>1.0</td>\n",
              "      <td>N</td>\n",
              "    </tr>\n",
              "    <tr>\n",
              "      <th>3</th>\n",
              "      <td>Male</td>\n",
              "      <td>50</td>\n",
              "      <td>175</td>\n",
              "      <td>80</td>\n",
              "      <td>91.0</td>\n",
              "      <td>1.5</td>\n",
              "      <td>1.2</td>\n",
              "      <td>1.0</td>\n",
              "      <td>1.0</td>\n",
              "      <td>145.0</td>\n",
              "      <td>...</td>\n",
              "      <td>104.0</td>\n",
              "      <td>106.0</td>\n",
              "      <td>17.6</td>\n",
              "      <td>1.0</td>\n",
              "      <td>1.1</td>\n",
              "      <td>29.0</td>\n",
              "      <td>34.0</td>\n",
              "      <td>18.0</td>\n",
              "      <td>1.0</td>\n",
              "      <td>N</td>\n",
              "    </tr>\n",
              "    <tr>\n",
              "      <th>4</th>\n",
              "      <td>Male</td>\n",
              "      <td>50</td>\n",
              "      <td>165</td>\n",
              "      <td>60</td>\n",
              "      <td>80.0</td>\n",
              "      <td>1.0</td>\n",
              "      <td>1.2</td>\n",
              "      <td>1.0</td>\n",
              "      <td>1.0</td>\n",
              "      <td>138.0</td>\n",
              "      <td>...</td>\n",
              "      <td>117.0</td>\n",
              "      <td>104.0</td>\n",
              "      <td>13.8</td>\n",
              "      <td>1.0</td>\n",
              "      <td>0.8</td>\n",
              "      <td>19.0</td>\n",
              "      <td>12.0</td>\n",
              "      <td>25.0</td>\n",
              "      <td>1.0</td>\n",
              "      <td>N</td>\n",
              "    </tr>\n",
              "  </tbody>\n",
              "</table>\n",
              "<p>5 rows × 24 columns</p>\n",
              "</div>\n",
              "    <div class=\"colab-df-buttons\">\n",
              "\n",
              "  <div class=\"colab-df-container\">\n",
              "    <button class=\"colab-df-convert\" onclick=\"convertToInteractive('df-c626bfb4-575a-492b-a432-12b16f2532a2')\"\n",
              "            title=\"Convert this dataframe to an interactive table.\"\n",
              "            style=\"display:none;\">\n",
              "\n",
              "  <svg xmlns=\"http://www.w3.org/2000/svg\" height=\"24px\" viewBox=\"0 -960 960 960\">\n",
              "    <path d=\"M120-120v-720h720v720H120Zm60-500h600v-160H180v160Zm220 220h160v-160H400v160Zm0 220h160v-160H400v160ZM180-400h160v-160H180v160Zm440 0h160v-160H620v160ZM180-180h160v-160H180v160Zm440 0h160v-160H620v160Z\"/>\n",
              "  </svg>\n",
              "    </button>\n",
              "\n",
              "  <style>\n",
              "    .colab-df-container {\n",
              "      display:flex;\n",
              "      gap: 12px;\n",
              "    }\n",
              "\n",
              "    .colab-df-convert {\n",
              "      background-color: #E8F0FE;\n",
              "      border: none;\n",
              "      border-radius: 50%;\n",
              "      cursor: pointer;\n",
              "      display: none;\n",
              "      fill: #1967D2;\n",
              "      height: 32px;\n",
              "      padding: 0 0 0 0;\n",
              "      width: 32px;\n",
              "    }\n",
              "\n",
              "    .colab-df-convert:hover {\n",
              "      background-color: #E2EBFA;\n",
              "      box-shadow: 0px 1px 2px rgba(60, 64, 67, 0.3), 0px 1px 3px 1px rgba(60, 64, 67, 0.15);\n",
              "      fill: #174EA6;\n",
              "    }\n",
              "\n",
              "    .colab-df-buttons div {\n",
              "      margin-bottom: 4px;\n",
              "    }\n",
              "\n",
              "    [theme=dark] .colab-df-convert {\n",
              "      background-color: #3B4455;\n",
              "      fill: #D2E3FC;\n",
              "    }\n",
              "\n",
              "    [theme=dark] .colab-df-convert:hover {\n",
              "      background-color: #434B5C;\n",
              "      box-shadow: 0px 1px 3px 1px rgba(0, 0, 0, 0.15);\n",
              "      filter: drop-shadow(0px 1px 2px rgba(0, 0, 0, 0.3));\n",
              "      fill: #FFFFFF;\n",
              "    }\n",
              "  </style>\n",
              "\n",
              "    <script>\n",
              "      const buttonEl =\n",
              "        document.querySelector('#df-c626bfb4-575a-492b-a432-12b16f2532a2 button.colab-df-convert');\n",
              "      buttonEl.style.display =\n",
              "        google.colab.kernel.accessAllowed ? 'block' : 'none';\n",
              "\n",
              "      async function convertToInteractive(key) {\n",
              "        const element = document.querySelector('#df-c626bfb4-575a-492b-a432-12b16f2532a2');\n",
              "        const dataTable =\n",
              "          await google.colab.kernel.invokeFunction('convertToInteractive',\n",
              "                                                    [key], {});\n",
              "        if (!dataTable) return;\n",
              "\n",
              "        const docLinkHtml = 'Like what you see? Visit the ' +\n",
              "          '<a target=\"_blank\" href=https://colab.research.google.com/notebooks/data_table.ipynb>data table notebook</a>'\n",
              "          + ' to learn more about interactive tables.';\n",
              "        element.innerHTML = '';\n",
              "        dataTable['output_type'] = 'display_data';\n",
              "        await google.colab.output.renderOutput(dataTable, element);\n",
              "        const docLink = document.createElement('div');\n",
              "        docLink.innerHTML = docLinkHtml;\n",
              "        element.appendChild(docLink);\n",
              "      }\n",
              "    </script>\n",
              "  </div>\n",
              "\n",
              "\n",
              "<div id=\"df-659819e9-a089-4d23-adab-f4672ac5382d\">\n",
              "  <button class=\"colab-df-quickchart\" onclick=\"quickchart('df-659819e9-a089-4d23-adab-f4672ac5382d')\"\n",
              "            title=\"Suggest charts\"\n",
              "            style=\"display:none;\">\n",
              "\n",
              "<svg xmlns=\"http://www.w3.org/2000/svg\" height=\"24px\"viewBox=\"0 0 24 24\"\n",
              "     width=\"24px\">\n",
              "    <g>\n",
              "        <path d=\"M19 3H5c-1.1 0-2 .9-2 2v14c0 1.1.9 2 2 2h14c1.1 0 2-.9 2-2V5c0-1.1-.9-2-2-2zM9 17H7v-7h2v7zm4 0h-2V7h2v10zm4 0h-2v-4h2v4z\"/>\n",
              "    </g>\n",
              "</svg>\n",
              "  </button>\n",
              "\n",
              "<style>\n",
              "  .colab-df-quickchart {\n",
              "      --bg-color: #E8F0FE;\n",
              "      --fill-color: #1967D2;\n",
              "      --hover-bg-color: #E2EBFA;\n",
              "      --hover-fill-color: #174EA6;\n",
              "      --disabled-fill-color: #AAA;\n",
              "      --disabled-bg-color: #DDD;\n",
              "  }\n",
              "\n",
              "  [theme=dark] .colab-df-quickchart {\n",
              "      --bg-color: #3B4455;\n",
              "      --fill-color: #D2E3FC;\n",
              "      --hover-bg-color: #434B5C;\n",
              "      --hover-fill-color: #FFFFFF;\n",
              "      --disabled-bg-color: #3B4455;\n",
              "      --disabled-fill-color: #666;\n",
              "  }\n",
              "\n",
              "  .colab-df-quickchart {\n",
              "    background-color: var(--bg-color);\n",
              "    border: none;\n",
              "    border-radius: 50%;\n",
              "    cursor: pointer;\n",
              "    display: none;\n",
              "    fill: var(--fill-color);\n",
              "    height: 32px;\n",
              "    padding: 0;\n",
              "    width: 32px;\n",
              "  }\n",
              "\n",
              "  .colab-df-quickchart:hover {\n",
              "    background-color: var(--hover-bg-color);\n",
              "    box-shadow: 0 1px 2px rgba(60, 64, 67, 0.3), 0 1px 3px 1px rgba(60, 64, 67, 0.15);\n",
              "    fill: var(--button-hover-fill-color);\n",
              "  }\n",
              "\n",
              "  .colab-df-quickchart-complete:disabled,\n",
              "  .colab-df-quickchart-complete:disabled:hover {\n",
              "    background-color: var(--disabled-bg-color);\n",
              "    fill: var(--disabled-fill-color);\n",
              "    box-shadow: none;\n",
              "  }\n",
              "\n",
              "  .colab-df-spinner {\n",
              "    border: 2px solid var(--fill-color);\n",
              "    border-color: transparent;\n",
              "    border-bottom-color: var(--fill-color);\n",
              "    animation:\n",
              "      spin 1s steps(1) infinite;\n",
              "  }\n",
              "\n",
              "  @keyframes spin {\n",
              "    0% {\n",
              "      border-color: transparent;\n",
              "      border-bottom-color: var(--fill-color);\n",
              "      border-left-color: var(--fill-color);\n",
              "    }\n",
              "    20% {\n",
              "      border-color: transparent;\n",
              "      border-left-color: var(--fill-color);\n",
              "      border-top-color: var(--fill-color);\n",
              "    }\n",
              "    30% {\n",
              "      border-color: transparent;\n",
              "      border-left-color: var(--fill-color);\n",
              "      border-top-color: var(--fill-color);\n",
              "      border-right-color: var(--fill-color);\n",
              "    }\n",
              "    40% {\n",
              "      border-color: transparent;\n",
              "      border-right-color: var(--fill-color);\n",
              "      border-top-color: var(--fill-color);\n",
              "    }\n",
              "    60% {\n",
              "      border-color: transparent;\n",
              "      border-right-color: var(--fill-color);\n",
              "    }\n",
              "    80% {\n",
              "      border-color: transparent;\n",
              "      border-right-color: var(--fill-color);\n",
              "      border-bottom-color: var(--fill-color);\n",
              "    }\n",
              "    90% {\n",
              "      border-color: transparent;\n",
              "      border-bottom-color: var(--fill-color);\n",
              "    }\n",
              "  }\n",
              "</style>\n",
              "\n",
              "  <script>\n",
              "    async function quickchart(key) {\n",
              "      const quickchartButtonEl =\n",
              "        document.querySelector('#' + key + ' button');\n",
              "      quickchartButtonEl.disabled = true;  // To prevent multiple clicks.\n",
              "      quickchartButtonEl.classList.add('colab-df-spinner');\n",
              "      try {\n",
              "        const charts = await google.colab.kernel.invokeFunction(\n",
              "            'suggestCharts', [key], {});\n",
              "      } catch (error) {\n",
              "        console.error('Error during call to suggestCharts:', error);\n",
              "      }\n",
              "      quickchartButtonEl.classList.remove('colab-df-spinner');\n",
              "      quickchartButtonEl.classList.add('colab-df-quickchart-complete');\n",
              "    }\n",
              "    (() => {\n",
              "      let quickchartButtonEl =\n",
              "        document.querySelector('#df-659819e9-a089-4d23-adab-f4672ac5382d button');\n",
              "      quickchartButtonEl.style.display =\n",
              "        google.colab.kernel.accessAllowed ? 'block' : 'none';\n",
              "    })();\n",
              "  </script>\n",
              "</div>\n",
              "\n",
              "    </div>\n",
              "  </div>\n"
            ],
            "application/vnd.google.colaboratory.intrinsic+json": {
              "type": "dataframe",
              "variable_name": "df"
            }
          },
          "metadata": {},
          "execution_count": 5
        }
      ],
      "source": [
        "df.head()"
      ]
    },
    {
      "cell_type": "code",
      "execution_count": null,
      "metadata": {
        "id": "EQkylxfqoGhg"
      },
      "outputs": [],
      "source": [
        "columns = df.columns"
      ]
    },
    {
      "cell_type": "markdown",
      "metadata": {
        "id": "rpsjyEBpxR5x"
      },
      "source": [
        "# **DATA PREPROCESSING**"
      ]
    },
    {
      "cell_type": "code",
      "execution_count": null,
      "metadata": {
        "id": "uR9V4Kpy4mFl"
      },
      "outputs": [],
      "source": [
        "df[\"sex\"] = np.where(df[\"sex\"] == \"Male\", 1.0, 0.0) #Converting Male and Female to 1s and 0s"
      ]
    },
    {
      "cell_type": "code",
      "execution_count": null,
      "metadata": {
        "id": "1gkuIbU35eV3"
      },
      "outputs": [],
      "source": [
        "df['DRK_YN'] = np.where(df['DRK_YN'] == \"Y\", 1.0, 0.0) #Converting Y and N to 1s and 0s"
      ]
    },
    {
      "cell_type": "code",
      "execution_count": null,
      "metadata": {
        "id": "KtqcYvmN5uqs"
      },
      "outputs": [],
      "source": [
        "for i in df.columns:\n",
        "  df[i] = df[i].astype('float64') #Converting the datatype as Float64"
      ]
    },
    {
      "cell_type": "markdown",
      "source": [
        "1. df[\"sex\"] = np.where(...):\n",
        "\n",
        "  Converts the sex column to numerical values:\n",
        "    \n",
        "      Male becomes 1.0.\n",
        "    \n",
        "      Female becomes 0.0.\n",
        "\n",
        "2. df['DRK_YN'] = np.where(...):\n",
        "\n",
        "  Converts the DRK_YN column to binary values:\n",
        "  \n",
        "  Y (Yes) becomes 1.0.\n",
        "  \n",
        "  N (No) becomes 0.0.\n",
        "\n",
        "3. for i in df.columns::\n",
        "\n",
        "  Iterates through all columns of the dataset.\n",
        "\n",
        "4. df[i] = df[i].astype('float64'):\n",
        "\n",
        "  Ensures all columns are stored as floating-point numbers for consistency.\n"
      ],
      "metadata": {
        "id": "mGKje17FHhxW"
      }
    },
    {
      "cell_type": "code",
      "execution_count": null,
      "metadata": {
        "id": "QgEqykPG6oD9",
        "colab": {
          "base_uri": "https://localhost:8080/",
          "height": 210
        },
        "outputId": "237f0bd8-ce07-4b57-8b09-645e0288af65"
      },
      "outputs": [
        {
          "output_type": "execute_result",
          "data": {
            "text/plain": [
              "SMK_stat_type_cd\n",
              "1.0    602441\n",
              "3.0    213954\n",
              "2.0    174951\n",
              "Name: count, dtype: int64"
            ],
            "text/html": [
              "<div>\n",
              "<style scoped>\n",
              "    .dataframe tbody tr th:only-of-type {\n",
              "        vertical-align: middle;\n",
              "    }\n",
              "\n",
              "    .dataframe tbody tr th {\n",
              "        vertical-align: top;\n",
              "    }\n",
              "\n",
              "    .dataframe thead th {\n",
              "        text-align: right;\n",
              "    }\n",
              "</style>\n",
              "<table border=\"1\" class=\"dataframe\">\n",
              "  <thead>\n",
              "    <tr style=\"text-align: right;\">\n",
              "      <th></th>\n",
              "      <th>count</th>\n",
              "    </tr>\n",
              "    <tr>\n",
              "      <th>SMK_stat_type_cd</th>\n",
              "      <th></th>\n",
              "    </tr>\n",
              "  </thead>\n",
              "  <tbody>\n",
              "    <tr>\n",
              "      <th>1.0</th>\n",
              "      <td>602441</td>\n",
              "    </tr>\n",
              "    <tr>\n",
              "      <th>3.0</th>\n",
              "      <td>213954</td>\n",
              "    </tr>\n",
              "    <tr>\n",
              "      <th>2.0</th>\n",
              "      <td>174951</td>\n",
              "    </tr>\n",
              "  </tbody>\n",
              "</table>\n",
              "</div><br><label><b>dtype:</b> int64</label>"
            ]
          },
          "metadata": {},
          "execution_count": 10
        }
      ],
      "source": [
        "df[\"SMK_stat_type_cd\"].value_counts()"
      ]
    },
    {
      "cell_type": "markdown",
      "metadata": {
        "id": "kJqCEGLu6rYx"
      },
      "source": [
        "1 -  denotes non smokers\n",
        "2 - smokers who quitted smoking\n",
        "3 - currently smoking\n",
        "\n",
        "From above we can see that there is a kind of class imbalance for smokers which is why we have decided to merge 2 and 3 as smokers.\n"
      ]
    },
    {
      "cell_type": "code",
      "execution_count": null,
      "metadata": {
        "id": "jQ1dr5TegcNe"
      },
      "outputs": [],
      "source": [
        "df.loc[df[\"SMK_stat_type_cd\"] == 3.0, \"SMK_stat_type_cd\"] = 0.0\n",
        "df.loc[df[\"SMK_stat_type_cd\"] == 2.0, \"SMK_stat_type_cd\"] = 0.0"
      ]
    },
    {
      "cell_type": "markdown",
      "source": [
        "1. df[\"SMK_stat_type_cd\"].value_counts():\n",
        "\n",
        "  Displays the frequency of each unique value in the SMK_stat_type_cd column.\n",
        "\n",
        "2. df.loc[df[\"SMK_stat_type_cd\"] == 3.0, \"SMK_stat_type_cd\"] = 0.0:\n",
        "\n",
        "  Merges category 3.0 (current smokers) with 2.0 (ex-smokers), re-labeling them as 0.0 (smokers).\n",
        "\n",
        "3. df[\"SMK_stat_type_cd\"].value_counts():\n",
        "\n",
        "  Rechecks the updated frequency distribution after merging."
      ],
      "metadata": {
        "id": "WeP6e2XlICUI"
      }
    },
    {
      "cell_type": "code",
      "execution_count": null,
      "metadata": {
        "id": "Yx_9XeXugg5Z",
        "colab": {
          "base_uri": "https://localhost:8080/",
          "height": 178
        },
        "outputId": "c54b7e25-5872-4a8b-a510-e6b4bbd6d843"
      },
      "outputs": [
        {
          "output_type": "execute_result",
          "data": {
            "text/plain": [
              "SMK_stat_type_cd\n",
              "1.0    602441\n",
              "0.0    388905\n",
              "Name: count, dtype: int64"
            ],
            "text/html": [
              "<div>\n",
              "<style scoped>\n",
              "    .dataframe tbody tr th:only-of-type {\n",
              "        vertical-align: middle;\n",
              "    }\n",
              "\n",
              "    .dataframe tbody tr th {\n",
              "        vertical-align: top;\n",
              "    }\n",
              "\n",
              "    .dataframe thead th {\n",
              "        text-align: right;\n",
              "    }\n",
              "</style>\n",
              "<table border=\"1\" class=\"dataframe\">\n",
              "  <thead>\n",
              "    <tr style=\"text-align: right;\">\n",
              "      <th></th>\n",
              "      <th>count</th>\n",
              "    </tr>\n",
              "    <tr>\n",
              "      <th>SMK_stat_type_cd</th>\n",
              "      <th></th>\n",
              "    </tr>\n",
              "  </thead>\n",
              "  <tbody>\n",
              "    <tr>\n",
              "      <th>1.0</th>\n",
              "      <td>602441</td>\n",
              "    </tr>\n",
              "    <tr>\n",
              "      <th>0.0</th>\n",
              "      <td>388905</td>\n",
              "    </tr>\n",
              "  </tbody>\n",
              "</table>\n",
              "</div><br><label><b>dtype:</b> int64</label>"
            ]
          },
          "metadata": {},
          "execution_count": 12
        }
      ],
      "source": [
        "df[\"SMK_stat_type_cd\"].value_counts()"
      ]
    },
    {
      "cell_type": "code",
      "execution_count": null,
      "metadata": {
        "id": "arIoHw7zi8_y",
        "colab": {
          "base_uri": "https://localhost:8080/"
        },
        "outputId": "dc62f2e4-f92c-4c5f-f676-d7eecb7f8418"
      },
      "outputs": [
        {
          "output_type": "stream",
          "name": "stdout",
          "text": [
            "sex                -0.642598\n",
            "age                 0.073802\n",
            "height             -0.491795\n",
            "weight             -0.395614\n",
            "waistline          -0.234447\n",
            "sight_left         -0.063685\n",
            "sight_right        -0.065000\n",
            "hear_left           0.010414\n",
            "hear_right          0.012682\n",
            "SBP                -0.107369\n",
            "DBP                -0.142998\n",
            "BLDS               -0.100516\n",
            "tot_chole          -0.007086\n",
            "HDL_chole           0.167597\n",
            "LDL_chole           0.011335\n",
            "triglyceride       -0.208084\n",
            "hemoglobin         -0.464186\n",
            "urine_protein      -0.018797\n",
            "serum_creatinine   -0.148009\n",
            "SGOT_AST           -0.069315\n",
            "SGOT_ALT           -0.139159\n",
            "gamma_GTP          -0.239668\n",
            "SMK_stat_type_cd    1.000000\n",
            "DRK_YN             -0.362274\n",
            "Name: SMK_stat_type_cd, dtype: float64\n"
          ]
        }
      ],
      "source": [
        "corr = (df.corr())\n",
        "print(corr['SMK_stat_type_cd'])"
      ]
    },
    {
      "cell_type": "markdown",
      "source": [
        "1. df.corr():\n",
        "\n",
        "  Calculates the correlation matrix for all numerical columns in the DataFrame.\n",
        "\n",
        "2. corr['SMK_stat_type_cd']:\n",
        "\n",
        "  Extracts correlations between SMK_stat_type_cd and other columns.\n",
        "\n",
        "3. print(...):\n",
        "\n",
        "  Displays the correlation values to identify features strongly correlated with the target."
      ],
      "metadata": {
        "id": "loTsR3_DIX0N"
      }
    },
    {
      "cell_type": "code",
      "execution_count": null,
      "metadata": {
        "id": "75Ca1YIrkvJx"
      },
      "outputs": [],
      "source": [
        "from sklearn.preprocessing import StandardScaler\n",
        "# Min Max Preprocessing\n",
        "for i in columns:\n",
        "  if i != \"sex\" and i != \"DRK_YN\" and i != \"SMK_stat_type_cd\":\n",
        "    min_val = df[i].min()\n",
        "    max_val = df[i].max()\n",
        "    df[i] = (df[i] - min_val) / (max_val - min_val)"
      ]
    },
    {
      "cell_type": "markdown",
      "source": [
        "1. if i not in [...]:\n",
        "\n",
        "  Skips categorical and target columns during normalization.\n",
        "\n",
        "2. min_val = df[i].min():\n",
        "\n",
        "  Finds the minimum value of the column.\n",
        "\n",
        "3. max_val = df[i].max():\n",
        "\n",
        "  Finds the maximum value of the column.\n",
        "\n",
        "4. df[i] = (df[i] - min_val) / (max_val - min_val):\n",
        "\n",
        "  Normalizes the column values to a range of [0, 1]"
      ],
      "metadata": {
        "id": "guUspejZIl6s"
      }
    },
    {
      "cell_type": "markdown",
      "metadata": {
        "id": "CZd0f7SEltZv"
      },
      "source": [
        "# **SPLITTING THE TRAINING AND TESTING DATA**"
      ]
    },
    {
      "cell_type": "code",
      "execution_count": null,
      "metadata": {
        "id": "drvUmCiZnRzz"
      },
      "outputs": [],
      "source": [
        "from sklearn.model_selection import train_test_split"
      ]
    },
    {
      "cell_type": "code",
      "execution_count": null,
      "metadata": {
        "id": "KJf_-eQ_nYFO"
      },
      "outputs": [],
      "source": [
        "X = df.drop(\"SMK_stat_type_cd\", axis = 1)\n",
        "y = df['SMK_stat_type_cd']"
      ]
    },
    {
      "cell_type": "markdown",
      "source": [
        "1. X = df.drop(...):\n",
        "\n",
        "  Removes the target column (SMK_stat_type_cd) from the dataset to create feature variables.\n",
        "\n",
        "2. y = df['SMK_stat_type_cd']:\n",
        "\n",
        "  Sets the target variable (SMK_stat_type_cd).\n",
        "\n",
        "3. train_test_split(...):\n",
        "\n",
        "  Splits the data into training (70%) and testing (30%) sets."
      ],
      "metadata": {
        "id": "rtvHDAMRI7Lk"
      }
    },
    {
      "cell_type": "code",
      "execution_count": null,
      "metadata": {
        "id": "UF007-urZfhN"
      },
      "outputs": [],
      "source": [
        "from imblearn.under_sampling import RandomUnderSampler\n",
        "from collections import Counter\n",
        "\n",
        "undersampler = RandomUnderSampler(sampling_strategy=.95)\n",
        "X, y = undersampler.fit_resample(X, y)"
      ]
    },
    {
      "cell_type": "markdown",
      "source": [
        "1. RandomUnderSampler(...):\n",
        "\n",
        "  Instantiates an undersampler to reduce the overrepresented class until the minority class is 95% of the majority class.\n",
        "\n",
        "2. undersampler.fit_resample(X, y):\n",
        "\n",
        "  Resamples the data to address class imbalance."
      ],
      "metadata": {
        "id": "kGxHgFNDJMq1"
      }
    },
    {
      "cell_type": "code",
      "execution_count": null,
      "metadata": {
        "id": "F2JkpdNenaFv"
      },
      "outputs": [],
      "source": [
        "X_train, X_test, y_train, y_test = train_test_split(X, y, test_size=0.3, random_state=42)"
      ]
    },
    {
      "cell_type": "code",
      "execution_count": null,
      "metadata": {
        "id": "vMywy3_FyUZa"
      },
      "outputs": [],
      "source": [
        "X_train = X_train.values\n",
        "X_test = X_test.values"
      ]
    },
    {
      "cell_type": "markdown",
      "metadata": {
        "id": "igeTjfcJp6DZ"
      },
      "source": [
        "# **SUPPORT VECTOR MACHINE**"
      ]
    },
    {
      "cell_type": "code",
      "execution_count": null,
      "metadata": {
        "id": "E3XVCoIRrPT7"
      },
      "outputs": [],
      "source": [
        "import numpy as np\n",
        "\n",
        "def LinearSVM_Scratch(X_train, y_train, X_test, lr=0.001, lambda_parameter=0.01, iterations=1000):\n",
        "\n",
        "    #Kfold\n",
        "    num_folds = 5\n",
        "    fold_size = len(X_train) // num_folds\n",
        "    X_train_cv = X_train\n",
        "    y_train_cv = y_train\n",
        "    for fold in range(num_folds):\n",
        "        # Define the start and end index for the validation set\n",
        "        start_val_index = fold * fold_size\n",
        "        end_val_index = (fold + 1) * fold_size\n",
        "\n",
        "        # New training set\n",
        "        X_train = np.append(X_train_cv[:start_val_index], X_train_cv[end_val_index:], axis=0)\n",
        "        y_train = np.append(y_train_cv[:start_val_index], y_train_cv[end_val_index:])\n",
        "\n",
        "        X_val = X_train_cv[start_val_index:end_val_index]\n",
        "        y_val = y_train_cv[start_val_index:end_val_index]\n",
        "\n",
        "\n",
        "        #SVM Model Training\n",
        "        #Initialization of Weight and Bias\n",
        "        w = None\n",
        "        b = None\n",
        "\n",
        "        # Get the number of samples and features from the training data\n",
        "        _, features = X_train.shape\n",
        "\n",
        "        # Convert class labels to binary {-1, 1} for SVM\n",
        "        y = np.where(y_train <= 0, -1, 1)\n",
        "\n",
        "        # Initialize Weights and Bias as Zeros\n",
        "        w = np.zeros(features)\n",
        "        b = 0\n",
        "\n",
        "        # Training the SVM model using Stochastic Gradient Descent (SGD)\n",
        "        for _ in range(iterations):\n",
        "            for id, x_i in enumerate(X_train):\n",
        "                # Check the condition for each data point\n",
        "                condition = y[id] * (np.dot(x_i, w) - b) >= 1\n",
        "                # Update weights and bias based on the condition\n",
        "                if condition:\n",
        "                    w -= lr * (2 * lambda_parameter * w)\n",
        "                else:\n",
        "                    w -= lr * (2 * lambda_parameter * w - np.dot(x_i, y[id]))\n",
        "                    b -= lr * y[id]\n",
        "\n",
        "        # Prediction on training and testing data\n",
        "        approx_train = np.dot(X_train, w) - b\n",
        "        y_pred_train = np.sign(approx_train)\n",
        "        y_pred_train = np.where(y_pred_train == -1.0, 0.0, y_pred_train)\n",
        "\n",
        "        approx_val = np.dot(X_val, w) - b\n",
        "        y_pred_val = np.sign(approx_val)\n",
        "        y_pred_val = np.where(y_pred_val == -1.0, 0.0, y_pred_val)\n",
        "\n",
        "        approx_test = np.dot(X_test, w) - b\n",
        "        y_pred = np.sign(approx_test)\n",
        "        y_pred = np.where(y_pred == -1.0, 0.0, y_pred)\n",
        "\n",
        "        training_accuracy = accuracy_score(y_train, y_pred_train)\n",
        "        validation_accuracy = accuracy_score(y_val, y_pred_val)\n",
        "        testing_accuracy = accuracy_score(y_test, y_pred)\n",
        "\n",
        "        training_report = classification_report(y_train, y_pred_train)\n",
        "        validation_report = classification_report(y_val, y_pred_val)\n",
        "        testing_report = classification_report(y_test, y_pred)\n",
        "\n",
        "\n",
        "        print(f\"*************************************************************************************From Scratch Model Fold {fold}*********************************************************************************************\")\n",
        "        print(f\"Training Accuracy fold{i} scratch model: {training_accuracy:.3f}\")\n",
        "        print(f\"Validation Accuracy fold{i} scratch model: {validation_accuracy:.3f}\")\n",
        "        print(f\"Testing Accuracy fold{i} scratch model: {testing_accuracy:.3f}\")\n",
        "        print(\"Classification Report training scratch model:\\n\", training_report)\n",
        "        print(\"Classification Report validation scratch model:\\n\", validation_report)\n",
        "        print(\"Classification Report testing scratch model:\\n\", testing_report)\n",
        "        t_statistic, p_value = ttest_ind(y_pred, y_test)\n",
        "        print(\"Scratch T-statistic with ground truth:\", t_statistic)\n",
        "        print(\"Scratch P-value with ground truth:\", p_value)\n",
        "\n",
        "\n"
      ]
    },
    {
      "cell_type": "code",
      "execution_count": null,
      "metadata": {
        "id": "tFguHnOvxbY-",
        "colab": {
          "base_uri": "https://localhost:8080/"
        },
        "outputId": "54c59127-65f4-44f7-db5c-70ca208b1727"
      },
      "outputs": [
        {
          "output_type": "stream",
          "name": "stdout",
          "text": [
            "*************************************************************************************From Scratch Model Fold 0*********************************************************************************************\n",
            "Training Accuracy foldDRK_YN scratch model: 0.826\n",
            "Validation Accuracy foldDRK_YN scratch model: 0.827\n",
            "Testing Accuracy foldDRK_YN scratch model: 0.826\n",
            "Classification Report training scratch model:\n",
            "               precision    recall  f1-score   support\n",
            "\n",
            "         0.0       0.76      0.93      0.84    217996\n",
            "         1.0       0.92      0.73      0.81    229040\n",
            "\n",
            "    accuracy                           0.83    447036\n",
            "   macro avg       0.84      0.83      0.82    447036\n",
            "weighted avg       0.84      0.83      0.82    447036\n",
            "\n",
            "Classification Report validation scratch model:\n",
            "               precision    recall  f1-score   support\n",
            "\n",
            "         0.0       0.77      0.93      0.84     54392\n",
            "         1.0       0.92      0.73      0.81     57366\n",
            "\n",
            "    accuracy                           0.83    111758\n",
            "   macro avg       0.84      0.83      0.83    111758\n",
            "weighted avg       0.84      0.83      0.83    111758\n",
            "\n",
            "Classification Report testing scratch model:\n",
            "               precision    recall  f1-score   support\n",
            "\n",
            "         0.0       0.76      0.93      0.84    116517\n",
            "         1.0       0.92      0.73      0.81    122967\n",
            "\n",
            "    accuracy                           0.83    239484\n",
            "   macro avg       0.84      0.83      0.82    239484\n",
            "weighted avg       0.84      0.83      0.82    239484\n",
            "\n",
            "Scratch T-statistic with ground truth: -74.46097140981185\n",
            "Scratch P-value with ground truth: 0.0\n"
          ]
        }
      ],
      "source": [
        "LinearSVM_Scratch(X_train, y_train, X_test)"
      ]
    },
    {
      "cell_type": "markdown",
      "metadata": {
        "id": "NDGZlhqOr86h"
      },
      "source": [
        "##Sklearn Implementation of SVM"
      ]
    },
    {
      "cell_type": "code",
      "execution_count": null,
      "metadata": {
        "id": "OfeGbMms1f29"
      },
      "outputs": [],
      "source": [
        "from sklearn.svm import LinearSVC\n",
        "\n",
        "num_folds = 5\n",
        "fold_size = len(X_train) // num_folds\n",
        "X_train_cv = X_train\n",
        "y_train_cv = y_train\n",
        "\n",
        "for fold in range(num_folds):\n",
        "    # Define the start and end index for the validation set\n",
        "    start_val_index = fold * fold_size\n",
        "    end_val_index = (fold + 1) * fold_size\n",
        "\n",
        "    # New training set\n",
        "    X_train = np.append(X_train_cv[:start_val_index], X_train_cv[end_val_index:], axis=0)\n",
        "    y_train = np.append(y_train_cv[:start_val_index], y_train_cv[end_val_index:])\n",
        "\n",
        "    X_val = X_train_cv[start_val_index:end_val_index]\n",
        "    y_val = y_train_cv[start_val_index:end_val_index]\n",
        "\n",
        "    svm = LinearSVC()  # You can choose different kernel functions (e.g., linear, radial basis function, polynomial, etc.)\n",
        "\n",
        "    # Train the model on the training data\n",
        "    svm.fit(X_train, y_train)\n",
        "\n",
        "    y_pred_train = svm.predict(X_train)\n",
        "    y_pred_val = svm.predict(X_val)\n",
        "    y_pred = svm.predict(X_test)\n",
        "\n",
        "    training_accuracy = accuracy_score(y_train, y_pred_train)\n",
        "    validation_accuracy = accuracy_score(y_val, y_pred_val)\n",
        "    testing_accuracy = accuracy_score(y_test, y_pred)\n",
        "\n",
        "    training_report = classification_report(y_train, y_pred_train)\n",
        "    validation_report = classification_report(y_val, y_pred_val)\n",
        "    testing_report = classification_report(y_test, y_pred)\n",
        "    print(f\"*************************************************************************************Sklearn Model Fold {fold}*********************************************************************************************\")\n",
        "    print(f\"Training Accuracy fold{i} scratch model: {training_accuracy:.3f}\")\n",
        "    print(f\"Validation Accuracy fold{i} scratch model: {validation_accuracy:.3f}\")\n",
        "    print(f\"Testing Accuracy fold{i} scratch model: {testing_accuracy:.3f}\")\n",
        "    print(\"Classification Report training scratch model:\\n\", training_report)\n",
        "    print(\"Classification Report validation scratch model:\\n\", validation_report)\n",
        "    print(\"Classification Report testing scratch model:\\n\", testing_report)\n",
        "    t_statistic, p_value = ttest_ind(y_pred, y_test)\n",
        "    print(\"Scratch T-statistic with ground truth:\", t_statistic)\n",
        "    print(\"Scratch P-value with ground truth:\", p_value)\n",
        "\n"
      ]
    },
    {
      "cell_type": "markdown",
      "source": [
        "This defines a custom implementation of a Linear SVM using Stochastic Gradient Descent (SGD) for optimization. Each sub-step is carefully implemented:\n",
        "\n",
        "1. Initialization:\n",
        "\n",
        "  Weight vector w and bias b are set to zeros.\n",
        "\n",
        "2. Training:\n",
        "\n",
        "  For each data point, checks the SVM condition:\n",
        "    \n",
        "    If the point is correctly classified, updates only using regularization.\n",
        "    \n",
        "    Otherwise, updates weights and bias based on the misclassification.\n",
        "\n",
        "3. Evaluation:\n",
        "\n",
        "  Computes predictions for train, validation, and test datasets."
      ],
      "metadata": {
        "id": "NufFycdSMvZD"
      }
    },
    {
      "cell_type": "code",
      "source": [],
      "metadata": {
        "id": "aVqwkR34M7Eu"
      },
      "execution_count": null,
      "outputs": []
    }
  ],
  "metadata": {
    "colab": {
      "provenance": [],
      "collapsed_sections": [
        "igeTjfcJp6DZ"
      ]
    },
    "kernelspec": {
      "display_name": "Python 3",
      "name": "python3"
    },
    "language_info": {
      "name": "python"
    }
  },
  "nbformat": 4,
  "nbformat_minor": 0
}